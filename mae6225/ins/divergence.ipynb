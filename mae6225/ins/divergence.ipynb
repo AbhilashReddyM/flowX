{
 "cells": [
  {
   "cell_type": "code",
   "execution_count": 3,
   "metadata": {},
   "outputs": [],
   "source": [
    "import numpy\n",
    "\n",
    "def divergence(gridc, gridx, gridy, ivar, dvar):\n",
    "    \"\"\"Solve the divergence \n",
    "    \n",
    "    Arguments\n",
    "    ---------\n",
    "    gridc : grid object\n",
    "        Grid containing data\n",
    "    gridx : \n",
    "    \n",
    "    gridy :\n",
    "        \n",
    "    ivar : string\n",
    "        Name of the grid variable of the u and v data\n",
    "    dvar : string\n",
    "        Name of the grid variable of the divergence\n",
    "    \n",
    "    \"\"\"\n",
    "    \n",
    "    u_ivar = gridx.get_variable_indices(ivar)\n",
    "\n",
    "    v_ivar = gridy.get_variable_indices(ivar)\n",
    "    \n",
    "    div_ivar = gridc.get_variable_indices(dvar) \n",
    "    dx, dy = gridc.dx, gridc.dy\n",
    "    \n",
    "    Udata = numpy.copy(gridx.data[:,:,u_ivar])\n",
    "    Vdata = numpy.copy(gridy.data[:,:,v_ivar])\n",
    "\n",
    "    gridc.data[1:-1, 1:-1, div_ivar] = ((Udata[1:, 1:-1] - Udata[:-1, 1:-1])/dx \n",
    "                                     +  (Vdata[1:-1, 1:] - Vdata[1:-1, :-1])/dy)\n",
    "   \n",
    "    return"
   ]
  },
  {
   "cell_type": "code",
   "execution_count": null,
   "metadata": {},
   "outputs": [],
   "source": []
  }
 ],
 "metadata": {
  "kernelspec": {
   "display_name": "Python 3",
   "language": "python",
   "name": "python3"
  },
  "language_info": {
   "codemirror_mode": {
    "name": "ipython",
    "version": 3
   },
   "file_extension": ".py",
   "mimetype": "text/x-python",
   "name": "python",
   "nbconvert_exporter": "python",
   "pygments_lexer": "ipython3",
   "version": "3.6.5"
  }
 },
 "nbformat": 4,
 "nbformat_minor": 2
}
