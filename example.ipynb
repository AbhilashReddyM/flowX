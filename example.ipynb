{
 "cells": [
  {
   "cell_type": "code",
   "execution_count": null,
   "metadata": {},
   "outputs": [],
   "source": [
    "import mae6225\n",
    "\n",
    "mae6225.__version__\n",
    "\n",
    "pres_var = 0\n",
    "prhs_var = 1\n",
    "exct_var = 2\n",
    "eror_var = 3\n",
    "\n",
    "cent_var = 4\n",
    "\n",
    "nx = 20\n",
    "ny = 20\n",
    "\n",
    "xmin = 0\n",
    "xmax = 1\n",
    "\n",
    "ymin = 1\n",
    "ymax = 1\n",
    "\n",
    "grid = mae6225.Grid(cent_var,nx,ny,xmin,xmax,ymin,ymax)\n",
    "\n",
    "mae6225.poisson.getAnalytical(grid,exct_var)\n",
    "mae6225.poisson.createRHS(grid,prhs_var)\n",
    "mae6225.poisson.solveJacobi(grid,pres_var,prhs_var)\n",
    "mae6225.poisson.getError(grid,eror_var,pres_var,exct_var)\n",
    "\n",
    "mae6225.IO.plot(grid,pres_var)\n",
    "mae6225.IO.plot(grid,exct_var)\n",
    "mae6225.IO.plot(grid,eror_var)"
   ]
  }
 ],
 "metadata": {
  "kernelspec": {
   "display_name": "Python 3",
   "language": "python",
   "name": "python3"
  },
  "language_info": {
   "codemirror_mode": {
    "name": "ipython",
    "version": 3
   },
   "file_extension": ".py",
   "mimetype": "text/x-python",
   "name": "python",
   "nbconvert_exporter": "python",
   "pygments_lexer": "ipython3",
   "version": "3.6.8"
  }
 },
 "nbformat": 4,
 "nbformat_minor": 2
}
