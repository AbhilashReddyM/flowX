{
 "cells": [
  {
   "cell_type": "code",
   "execution_count": null,
   "metadata": {},
   "outputs": [],
   "source": [
    "# Sample API\n",
    "import mae6225\n",
    "import simulation\n",
    "mae6225.__version__"
   ]
  },
  {
   "cell_type": "code",
   "execution_count": null,
   "metadata": {},
   "outputs": [],
   "source": [
    "# Define grid parameters\n",
    "nx, ny = 100, 50\n",
    "xmin, xmax = -3.0, 7.0\n",
    "ymin, ymax = -2.5, 2.5\n",
    "\n",
    "Re   = 100.0\n",
    "dt   = 1e-3\n",
    "tmax = 5.\n",
    "\n",
    "ibm_x = 0.0\n",
    "ibm_y = 0.0\n",
    "ibm_r = 0.5\n",
    "\n",
    "# Define cell-centered variable names\n",
    "center_vars = ['pres', 'divp', 'divc']\n",
    "face_vars   = ['velc', 'hvar', 'ibmf', 'forc']\n",
    "\n",
    "# Define boundary conditions for variable pressure and velocity [left, right, bottom, top]\n",
    "bc_type_pres = {'pres': ['neumann', 'neumann', 'neumann', 'neumann']}\n",
    "bc_val_pres  = {'pres': [0.0, 0.0, 0.0, 0.0]}\n",
    "\n",
    "bc_type_u = {'velc': ['dirichlet', 'outflow', 'dirichlet', 'neumann']}\n",
    "bc_val_u  = {'velc': [1.0, 0.0, 0.0, 0.0]}\n",
    "\n",
    "bc_type_v = {'velc': ['dirichlet', 'neumann', 'dirichlet', 'dirichlet']}\n",
    "bc_val_v  = {'velc': [0.0, 0.0, 0.0, 0.0]}\n",
    "\n",
    "\n",
    "# Create the grid and data\n",
    "gridc = mae6225.Grid('cell-centered', center_vars,\n",
    "                    nx, ny, xmin, xmax, ymin, ymax,\n",
    "                    user_bc_type=bc_type_pres, user_bc_val=bc_val_pres)\n",
    "\n",
    "gridx = mae6225.Grid('x-face', face_vars,\n",
    "                    nx, ny, xmin, xmax, ymin, ymax,\n",
    "                    user_bc_type=bc_type_u, user_bc_val=bc_val_u)\n",
    "\n",
    "gridy = mae6225.Grid('y-face', face_vars,\n",
    "                    nx, ny, xmin, xmax, ymin, ymax,\n",
    "                    user_bc_type=bc_type_v, user_bc_val=bc_val_v)"
   ]
  },
  {
   "cell_type": "code",
   "execution_count": null,
   "metadata": {},
   "outputs": [],
   "source": [
    "simulation.set_initial_velocity(gridx, gridy, 'velc')\n",
    "simulation.update_outflow_bc(gridx, 'velc', False)"
   ]
  },
  {
   "cell_type": "code",
   "execution_count": null,
   "metadata": {},
   "outputs": [],
   "source": [
    "t  = 0.0\n",
    "nt = 0\n",
    "\n",
    "ins_stats = dict()\n",
    "\n",
    "while t <= tmax:\n",
    "    \n",
    "    # Compute mass in the domain\n",
    "    Qin = (simulation.get_qin(gridx, 'velc', bc_type_u['velc']) +\n",
    "           simulation.get_qin(gridy, 'velc', bc_type_v['velc']))\n",
    "    \n",
    "    # Update the outflow boundary velocity using a convective equation.\n",
    "    simulation.update_outflow_bc(gridx, 'velc', dt)\n",
    "    \n",
    "    # Calculate predicted velocity: u* = dt*H(u^n)\n",
    "    if t == 0:\n",
    "        mae6225.ins.predictor(gridx, gridy, 'velc', 'hvar', Re, dt)\n",
    "    else:\n",
    "        mae6225.ins.predictor_AB2(gridx, gridy, 'velc', 'hvar', Re, dt)\n",
    "    \n",
    "    # Compute mass out of the domain\n",
    "    Qout = (simulation.get_qout(gridx, 'velc', bc_type_u['velc']) +\n",
    "            simulation.get_qout(gridy, 'velc', bc_type_v['velc']))\n",
    "    \n",
    "    # Rescale velocity at outflow and update BC\n",
    "    simulation.rescale_velocity(gridx, 'velc', bc_type_u['velc'],\n",
    "                                Qin, Qout) \n",
    "    simulation.update_outflow_bc(gridx, 'velc', dt, convvel=0.0)\n",
    "    \n",
    "    # Calculate RHS for the pressure Poission solver div(u)/dt\n",
    "    mae6225.ins.divergence(gridc, gridx, gridy, 'velc', 'divp', ifac=dt)\n",
    "    \n",
    "    # Solve the pressure Poisson equation \n",
    "    ites, res = mae6225.poisson.solve_jacobi(gridc, 'pres', 'divp',\n",
    "                                             maxiter=3000, tol=1e-7)\n",
    "    ins_stats['ites'], ins_stats['res'] = ites, res\n",
    "    \n",
    "    # Calculate corrected velocity u^n+1 = u* - dt * grad(P) \n",
    "    mae6225.ins.corrector(gridc, gridx, gridy, 'velc', 'pres', dt)\n",
    "    \n",
    "    # Calculate divergence of the corrected velocity to display stats\n",
    "    mae6225.ins.divergence(gridc, gridx, gridy, 'velc', 'divc')\n",
    "    \n",
    "    # Calculate stats\n",
    "    ins_stats.update(mae6225.ins.stats(gridc, gridx, gridy, 'velc', 'pres', 'divc'))\n",
    "    \n",
    "    # Display stats\n",
    "    if nt % 10 == 0:\n",
    "        mae6225.io.display_stats(t, ins_stats)   \n",
    "    \n",
    "    t += dt\n",
    "    nt += 1"
   ]
  },
  {
   "cell_type": "code",
   "execution_count": null,
   "metadata": {},
   "outputs": [],
   "source": [
    "mae6225.io.plot_contour(gridc, 'pres')\n",
    "mae6225.io.plot_vector(gridx,gridy,'velc')"
   ]
  }
 ],
 "metadata": {
  "kernelspec": {
   "display_name": "Python 3 (MAE6225)",
   "language": "python",
   "name": "py36-mae6225"
  },
  "language_info": {
   "codemirror_mode": {
    "name": "ipython",
    "version": 3
   },
   "file_extension": ".py",
   "mimetype": "text/x-python",
   "name": "python",
   "nbconvert_exporter": "python",
   "pygments_lexer": "ipython3",
   "version": "3.6.8"
  }
 },
 "nbformat": 4,
 "nbformat_minor": 2
}
