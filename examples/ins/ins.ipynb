{
 "cells": [
  {
   "cell_type": "code",
   "execution_count": 1,
   "metadata": {},
   "outputs": [
    {
     "data": {
      "text/plain": [
       "'0.1.dev'"
      ]
     },
     "execution_count": 1,
     "metadata": {},
     "output_type": "execute_result"
    }
   ],
   "source": [
    "# Sample API\n",
    "import mae6225\n",
    "import simulation\n",
    "mae6225.__version__"
   ]
  },
  {
   "cell_type": "code",
   "execution_count": 2,
   "metadata": {},
   "outputs": [],
   "source": [
    "# Define grid parameters\n",
    "nx, ny = 40, 40\n",
    "xmin, xmax = 0.0, 1.0\n",
    "ymin, ymax = 0.0, 1.0\n",
    "\n",
    "Re   = 100\n",
    "dt   = 0.001\n",
    "tmax = 10.\n",
    "\n",
    "# Define cell-centered variable names\n",
    "center_vars = ['pres', 'divc']\n",
    "face_vars   = ['velc', 'conv', 'diff']\n",
    "\n",
    "# Define boundary conditions for variable pressure and velocity\n",
    "bc_type_pres = {'pres': ['neumann', 'neumann', 'neumann', 'neumann']}\n",
    "bc_val_pres  = {'pres': [0.0, 0.0, 0.0, 0.0]}\n",
    "\n",
    "bc_type_u = {'velc': ['dirichlet', 'dirichlet', 'dirichlet', 'dirichlet']}\n",
    "bc_val_u  = {'velc': [0.0, 0.0, 0.0, 1.0]}\n",
    "\n",
    "bc_type_v = {'velc': ['dirichlet', 'dirichlet', 'dirichlet', 'dirichlet']}\n",
    "bc_val_v  = {'velc': [0.0, 0.0, 0.0, 0.0]}\n",
    "\n",
    "\n",
    "# Create the grid and data\n",
    "gridc = mae6225.Grid('cell-centered', center_vars,\n",
    "                    nx, ny, xmin, xmax, ymin, ymax,\n",
    "                    user_bc_type=bc_type_pres, user_bc_val=bc_val_pres)\n",
    "\n",
    "gridx = mae6225.Grid('x-face', face_vars,\n",
    "                    nx, ny, xmin, xmax, ymin, ymax,\n",
    "                    user_bc_type=bc_type_u, user_bc_val=bc_val_u)\n",
    "\n",
    "gridy = mae6225.Grid('y-face', face_vars,\n",
    "                    nx, ny, xmin, xmax, ymin, ymax,\n",
    "                    user_bc_type=bc_type_v, user_bc_val=bc_val_v)"
   ]
  },
  {
   "cell_type": "code",
   "execution_count": 3,
   "metadata": {},
   "outputs": [
    {
     "name": "stdout",
     "output_type": "stream",
     "text": [
      "Jacobi method:\n",
      "- Number of iterations: 1\n",
      "- Final residual: 0.0\n",
      "Jacobi method:\n",
      "- Number of iterations: 3820\n",
      "- Final residual: 9.995688135983241e-10\n",
      "Jacobi method:\n",
      "- Number of iterations: 3802\n",
      "- Final residual: 9.98582187821577e-10\n",
      "Jacobi method:\n",
      "- Number of iterations: 3782\n",
      "- Final residual: 9.985009685820426e-10\n",
      "Jacobi method:\n",
      "- Number of iterations: 3762\n",
      "- Final residual: 9.989979403588612e-10\n"
     ]
    }
   ],
   "source": [
    "t = 0.0\n",
    "\n",
    "while(t<=4*dt):\n",
    "    \n",
    "    mae6225.ins.predictor(gridx, gridy, 'velc', 'conv', 'diff', Re, dt)\n",
    "    \n",
    "    mae6225.ins.divergence(gridc, gridx, gridy, 'velc', 'divc')\n",
    "    \n",
    "    ites, res = mae6225.poisson.solve_jacobi(gridc, 'pres', 'divc',\n",
    "                                         maxiter=10000, tol=1e-9, verbose=True)\n",
    "    \n",
    "    mae6225.ins.corrector(gridc, gridx, gridy, 'velc', 'pres', dt)\n",
    "    \n",
    "    t = t+dt\n",
    "    "
   ]
  },
  {
   "cell_type": "code",
   "execution_count": 4,
   "metadata": {},
   "outputs": [
    {
     "data": {
      "image/png": "[encoded data removed]",
      "text/plain": [
       "<Figure size 432x288 with 2 Axes>"
      ]
     },
     "metadata": {},
     "output_type": "display_data"
    }
   ],
   "source": [
    "# Plot the analytical solution\n",
    "mae6225.io.plot_contour(gridc, 'divc')"
   ]
  },
  {
   "cell_type": "code",
   "execution_count": null,
   "metadata": {},
   "outputs": [],
   "source": []
  }
 ],
 "metadata": {
  "kernelspec": {
   "display_name": "Python 3",
   "language": "python",
   "name": "python3"
  },
  "language_info": {
   "codemirror_mode": {
    "name": "ipython",
    "version": 3
   },
   "file_extension": ".py",
   "mimetype": "text/x-python",
   "name": "python",
   "nbconvert_exporter": "python",
   "pygments_lexer": "ipython3",
   "version": "3.6.1"
  }
 },
 "nbformat": 4,
 "nbformat_minor": 2
}
