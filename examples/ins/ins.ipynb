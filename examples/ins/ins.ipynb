{
 "cells": [
  {
   "cell_type": "code",
   "execution_count": 1,
   "metadata": {},
   "outputs": [
    {
     "data": {
      "text/plain": [
       "'0.1.dev'"
      ]
     },
     "execution_count": 1,
     "metadata": {},
     "output_type": "execute_result"
    }
   ],
   "source": [
    "# Sample API\n",
    "import mae6225\n",
    "import simulation\n",
    "mae6225.__version__"
   ]
  },
  {
   "cell_type": "code",
   "execution_count": 2,
   "metadata": {},
   "outputs": [],
   "source": [
    "# Define grid parameters\n",
    "nx, ny = 40, 40\n",
    "xmin, xmax = 0.0, 1.0\n",
    "ymin, ymax = 0.0, 1.0\n",
    "\n",
    "Re   = 100\n",
    "dt   = 0.001\n",
    "tmax = 10.\n",
    "\n",
    "# Define cell-centered variable names\n",
    "center_vars = ['pres', 'divc']\n",
    "face_vars   = ['velc', 'conv', 'diff']\n",
    "\n",
    "# Define boundary conditions for variable pressure and velocity\n",
    "bc_type_pres = {'pres': ['neumann', 'neumann', 'neumann', 'neumann']}\n",
    "bc_val_pres  = {'pres': [0.0, 0.0, 0.0, 0.0]}\n",
    "\n",
    "bc_type_u = {'velc': ['dirichlet', 'dirichlet', 'dirichlet', 'dirichlet']}\n",
    "bc_val_u  = {'velc': [0.0, 0.0, 0.0, 1.0]}\n",
    "\n",
    "bc_type_v = {'velc': ['dirichlet', 'dirichlet', 'dirichlet', 'dirichlet']}\n",
    "bc_val_v  = {'velc': [0.0, 0.0, 0.0, 0.0]}\n",
    "\n",
    "\n",
    "# Create the grid and data\n",
    "gridc = mae6225.Grid('cell-centered', center_vars,\n",
    "                    nx, ny, xmin, xmax, ymin, ymax,\n",
    "                    user_bc_type=bc_type_pres, user_bc_val=bc_val_pres)\n",
    "\n",
    "gridx = mae6225.Grid('x-face', face_vars,\n",
    "                    nx, ny, xmin, xmax, ymin, ymax,\n",
    "                    user_bc_type=bc_type_u, user_bc_val=bc_val_u)\n",
    "\n",
    "gridy = mae6225.Grid('y-face', face_vars,\n",
    "                    nx, ny, xmin, xmax, ymin, ymax,\n",
    "                    user_bc_type=bc_type_v, user_bc_val=bc_val_v)"
   ]
  },
  {
   "cell_type": "code",
   "execution_count": 3,
   "metadata": {},
   "outputs": [
    {
     "name": "stdout",
     "output_type": "stream",
     "text": [
      "Jacobi method:\n",
      "- Number of iterations: 1\n",
      "- Final residual: 0.0\n",
      "Jacobi method:\n",
      "- Number of iterations: 3820\n",
      "- Final residual: 9.995688135983241e-10\n",
      "Jacobi method:\n",
      "- Number of iterations: 3802\n",
      "- Final residual: 9.98582187821577e-10\n",
      "Jacobi method:\n",
      "- Number of iterations: 3782\n",
      "- Final residual: 9.985009685820426e-10\n",
      "Jacobi method:\n",
      "- Number of iterations: 3762\n",
      "- Final residual: 9.989979403588612e-10\n",
      "Jacobi method:\n",
      "- Number of iterations: 3743\n",
      "- Final residual: 9.985298856839475e-10\n",
      "Jacobi method:\n",
      "- Number of iterations: 3724\n",
      "- Final residual: 9.986302693593574e-10\n",
      "Jacobi method:\n",
      "- Number of iterations: 3705\n",
      "- Final residual: 9.993011978197213e-10\n",
      "Jacobi method:\n",
      "- Number of iterations: 3687\n",
      "- Final residual: 9.989983240021117e-10\n",
      "Jacobi method:\n",
      "- Number of iterations: 3669\n",
      "- Final residual: 9.99259939082917e-10\n",
      "Jacobi method:\n",
      "- Number of iterations: 3652\n",
      "- Final residual: 9.986996673480621e-10\n",
      "Jacobi method:\n",
      "- Number of iterations: 3638\n",
      "- Final residual: 9.996813834069811e-10\n",
      "Jacobi method:\n",
      "- Number of iterations: 3709\n",
      "- Final residual: 9.984026047817003e-10\n",
      "Jacobi method:\n",
      "- Number of iterations: 4442\n",
      "- Final residual: 9.990924834964591e-10\n",
      "Jacobi method:\n",
      "- Number of iterations: 6453\n",
      "- Final residual: 9.99995498330449e-10\n",
      "Jacobi method:\n",
      "- Number of iterations: 8541\n",
      "- Final residual: 9.989224241717962e-10\n",
      "Jacobi method:\n",
      "Warning: maximum number of iterations reached!\n",
      "- Number of iterations: 10000\n",
      "- Final residual: 4.408650149620087e-09\n",
      "Jacobi method:\n",
      "Warning: maximum number of iterations reached!\n",
      "- Number of iterations: 10000\n",
      "- Final residual: 1.7387576446903965e-05\n",
      "Jacobi method:\n",
      "Warning: maximum number of iterations reached!\n",
      "- Number of iterations: 10000\n",
      "- Final residual: 191.63283719054317\n",
      "Jacobi method:\n",
      "Warning: maximum number of iterations reached!\n",
      "- Number of iterations: 10000\n",
      "- Final residual: 5.2996660065585544e+16\n",
      "Jacobi method:\n",
      "Warning: maximum number of iterations reached!\n",
      "- Number of iterations: 10000\n",
      "- Final residual: 5.1600146651816594e+44\n",
      "Jacobi method:\n",
      "Warning: maximum number of iterations reached!\n",
      "- Number of iterations: 10000\n",
      "- Final residual: 4.024902385726046e+101\n"
     ]
    },
    {
     "name": "stderr",
     "output_type": "stream",
     "text": [
      "/Users/Akash/Documents/Teaching/MAE-6225/mae6225/poisson/jacobi.py:53: RuntimeWarning: overflow encountered in square\n",
      "  phi_old)**2) /\n"
     ]
    },
    {
     "ename": "KeyboardInterrupt",
     "evalue": "",
     "output_type": "error",
     "traceback": [
      "\u001b[0;31m---------------------------------------------------------------------------\u001b[0m",
      "\u001b[0;31mKeyboardInterrupt\u001b[0m                         Traceback (most recent call last)",
      "\u001b[0;32m<ipython-input-3-6f62eb15f2e1>\u001b[0m in \u001b[0;36m<module>\u001b[0;34m()\u001b[0m\n\u001b[1;32m      8\u001b[0m \u001b[0;34m\u001b[0m\u001b[0m\n\u001b[1;32m      9\u001b[0m     ites, res = mae6225.poisson.solve_jacobi(gridc, 'pres', 'divc',\n\u001b[0;32m---> 10\u001b[0;31m                                          maxiter=10000, tol=1e-9, verbose=True)\n\u001b[0m\u001b[1;32m     11\u001b[0m \u001b[0;34m\u001b[0m\u001b[0m\n\u001b[1;32m     12\u001b[0m     \u001b[0mmae6225\u001b[0m\u001b[0;34m.\u001b[0m\u001b[0mins\u001b[0m\u001b[0;34m.\u001b[0m\u001b[0mcorrector\u001b[0m\u001b[0;34m(\u001b[0m\u001b[0mgridc\u001b[0m\u001b[0;34m,\u001b[0m \u001b[0mgridx\u001b[0m\u001b[0;34m,\u001b[0m \u001b[0mgridy\u001b[0m\u001b[0;34m,\u001b[0m \u001b[0;34m'velc'\u001b[0m\u001b[0;34m,\u001b[0m \u001b[0;34m'pres'\u001b[0m\u001b[0;34m,\u001b[0m \u001b[0mdt\u001b[0m\u001b[0;34m)\u001b[0m\u001b[0;34m\u001b[0m\u001b[0m\n",
      "\u001b[0;32m~/Documents/Teaching/MAE-6225/mae6225/poisson/jacobi.py\u001b[0m in \u001b[0;36msolve_jacobi\u001b[0;34m(grid, ivar, rvar, maxiter, tol, verbose)\u001b[0m\n\u001b[1;32m     43\u001b[0m                                            phi_old[1:-1, 2:]) * dy**2 +\n\u001b[1;32m     44\u001b[0m                                           (phi_old[:-2, 1:-1] +\n\u001b[0;32m---> 45\u001b[0;31m                                            phi_old[2:, 1:-1]) * dx**2 -\n\u001b[0m\u001b[1;32m     46\u001b[0m                                           \u001b[0mgrid\u001b[0m\u001b[0;34m.\u001b[0m\u001b[0mdata\u001b[0m\u001b[0;34m[\u001b[0m\u001b[0;36m1\u001b[0m\u001b[0;34m:\u001b[0m\u001b[0;34m-\u001b[0m\u001b[0;36m1\u001b[0m\u001b[0;34m,\u001b[0m \u001b[0;36m1\u001b[0m\u001b[0;34m:\u001b[0m\u001b[0;34m-\u001b[0m\u001b[0;36m1\u001b[0m\u001b[0;34m,\u001b[0m \u001b[0mi_rvar\u001b[0m\u001b[0;34m]\u001b[0m \u001b[0;34m*\u001b[0m\u001b[0;34m\u001b[0m\u001b[0m\n\u001b[1;32m     47\u001b[0m                                           dx**2 * dy**2) /\n",
      "\u001b[0;31mKeyboardInterrupt\u001b[0m: "
     ]
    }
   ],
   "source": [
    "t = 0.0\n",
    "\n",
    "while(t<=tmax):\n",
    "    \n",
    "    mae6225.ins.predictor(gridx, gridy, 'velc', 'conv', 'diff', Re, dt)\n",
    "    \n",
    "    mae6225.ins.divergence(gridc, gridx, gridy, 'velc', 'divc')\n",
    "    \n",
    "    ites, res = mae6225.poisson.solve_jacobi(gridc, 'pres', 'divc',\n",
    "                                         maxiter=10000, tol=1e-9, verbose=True)\n",
    "    \n",
    "    mae6225.ins.corrector(gridc, gridx, gridy, 'velc', 'pres', dt)\n",
    "    \n",
    "    t = t+dt\n",
    "    "
   ]
  },
  {
   "cell_type": "code",
   "execution_count": 4,
   "metadata": {},
   "outputs": [
    {
     "data": {
      "image/png": "[encoded data removed]",
      "text/plain": [
       "<Figure size 432x288 with 2 Axes>"
      ]
     },
     "metadata": {},
     "output_type": "display_data"
    }
   ],
   "source": [
    "# Plot the analytical solution\n",
    "mae6225.io.plot_contour(gridc, 'pres')"
   ]
  },
  {
   "cell_type": "code",
   "execution_count": null,
   "metadata": {},
   "outputs": [],
   "source": []
  }
 ],
 "metadata": {
  "kernelspec": {
   "display_name": "Python 3",
   "language": "python",
   "name": "python3"
  },
  "language_info": {
   "codemirror_mode": {
    "name": "ipython",
    "version": 3
   },
   "file_extension": ".py",
   "mimetype": "text/x-python",
   "name": "python",
   "nbconvert_exporter": "python",
   "pygments_lexer": "ipython3",
   "version": "3.6.1"
  }
 },
 "nbformat": 4,
 "nbformat_minor": 2
}
