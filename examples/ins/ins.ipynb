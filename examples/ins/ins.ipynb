{
 "cells": [
  {
   "cell_type": "code",
   "execution_count": 1,
   "metadata": {},
   "outputs": [
    {
     "data": {
      "text/plain": [
       "'0.1.dev'"
      ]
     },
     "execution_count": 1,
     "metadata": {},
     "output_type": "execute_result"
    }
   ],
   "source": [
    "# Sample API\n",
    "import mae6225\n",
    "#import simulation\n",
    "mae6225.__version__"
   ]
  },
  {
   "cell_type": "code",
   "execution_count": 2,
   "metadata": {},
   "outputs": [],
   "source": [
    "# Define grid parameters\n",
    "nx, ny = 40, 40\n",
    "xmin, xmax = 0.0, 1.0\n",
    "ymin, ymax = 0.0, 1.0\n",
    "\n",
    "Re   = 100\n",
    "dt   = 0.01\n",
    "tmax = 10.\n",
    "\n",
    "# Define cell-centered variable names\n",
    "center_vars = ['pres', 'divp', 'divc','asol','eror']\n",
    "face_vars   = ['velc', 'hvar','asol','eror']\n",
    "\n",
    "# Define boundary conditions for variable pressure and velocity [left, right, bottom, top]\n",
    "bc_type_pres = {'pres': ['neumann', 'neumann', 'neumann', 'neumann']}\n",
    "bc_val_pres  = {'pres': [0.0, 0.0, 0.0, 0.0]}\n",
    "\n",
    "bc_type_u = {'velc': ['dirichlet', 'dirichlet', 'dirichlet', 'dirichlet']}\n",
    "bc_val_u  = {'velc': [0.0, 0.0, 0.0, 1.0]}\n",
    "\n",
    "bc_type_v = {'velc': ['dirichlet', 'dirichlet', 'dirichlet', 'dirichlet']}\n",
    "bc_val_v  = {'velc': [0.0, 0.0, 0.0, 0.0]}\n",
    "\n",
    "\n",
    "# Create the grid and data\n",
    "gridc = mae6225.Grid('cell-centered', center_vars,\n",
    "                    nx, ny, xmin, xmax, ymin, ymax,\n",
    "                    user_bc_type=bc_type_pres, user_bc_val=bc_val_pres)\n",
    "\n",
    "gridx = mae6225.Grid('x-face', face_vars,\n",
    "                    nx, ny, xmin, xmax, ymin, ymax,\n",
    "                    user_bc_type=bc_type_u, user_bc_val=bc_val_u)\n",
    "\n",
    "gridy = mae6225.Grid('y-face', face_vars,\n",
    "                    nx, ny, xmin, xmax, ymin, ymax,\n",
    "                    user_bc_type=bc_type_v, user_bc_val=bc_val_v)"
   ]
  },
  {
   "cell_type": "code",
   "execution_count": 3,
   "metadata": {},
   "outputs": [
    {
     "name": "stdout",
     "output_type": "stream",
     "text": [
      "------------ Time = 0.0 ---------------\n",
      "Number of poisson iterations    : 1\n",
      "Final poisson residual residual : 0.0\n",
      "Max, Min, U   : 2.0, 0.0\n",
      "Max, Min, V   : 0.0, 0.0\n",
      "Max, Min, P   : 0.0, 0.0\n",
      "Max, Min, DIV : 0.0, 0.0\n",
      "\n",
      "\n",
      "------------ Time = 0.09999999999999999 ---------------\n",
      "Number of poisson iterations    : 5538\n",
      "Final poisson residual residual : 9.98778261744523e-10\n",
      "Max, Min, U   : 2.0, -0.1276021295378761\n",
      "Max, Min, V   : 0.29587932179126736, -0.3038712901239007\n",
      "Max, Min, P   : 1.2094198143214747, -0.8703529014661785\n",
      "Max, Min, DIV : 8.958161501482209e-08, -8.95165846843092e-08\n",
      "\n",
      "\n",
      "------------ Time = 0.20000000000000004 ---------------\n",
      "Number of poisson iterations    : 4765\n",
      "Final poisson residual residual : 9.98887455683559e-10\n",
      "Max, Min, U   : 2.0, -0.14215177739944862\n",
      "Max, Min, V   : 0.3254680445370629, -0.3762157290232419\n",
      "Max, Min, P   : 1.2229836202495217, -0.7778045378343613\n",
      "Max, Min, DIV : 9.060888039869042e-08, -9.040188229947344e-08\n",
      "\n",
      "\n",
      "------------ Time = 0.3000000000000001 ---------------\n",
      "Number of poisson iterations    : 4342\n",
      "Final poisson residual residual : 9.992841728190603e-10\n",
      "Max, Min, U   : 2.0, -0.14740039849616113\n",
      "Max, Min, V   : 0.3343165862171259, -0.4063050202536157\n",
      "Max, Min, P   : 1.2475809786787477, -0.7444019000144361\n",
      "Max, Min, DIV : 9.066804196322664e-08, -9.028559661938655e-08\n",
      "\n",
      "\n",
      "------------ Time = 0.4000000000000002 ---------------\n",
      "Number of poisson iterations    : 4046\n",
      "Final poisson residual residual : 9.993034296934426e-10\n",
      "Max, Min, U   : 2.0, -0.152777749113668\n",
      "Max, Min, V   : 0.33773064606965164, -0.4226501000235069\n",
      "Max, Min, P   : 1.2692890357106148, -0.727440018609066\n",
      "Max, Min, DIV : 8.994827638275638e-08, -8.937184908851346e-08\n",
      "\n",
      "\n"
     ]
    },
    {
     "ename": "KeyboardInterrupt",
     "evalue": "",
     "output_type": "error",
     "traceback": [
      "\u001b[0;31m---------------------------------------------------------------------------\u001b[0m",
      "\u001b[0;31mKeyboardInterrupt\u001b[0m                         Traceback (most recent call last)",
      "\u001b[0;32m<ipython-input-3-5c1656d1b192>\u001b[0m in \u001b[0;36m<module>\u001b[0;34m()\u001b[0m\n\u001b[1;32m     14\u001b[0m     \u001b[0;31m# Solve the pressure Poisson equation\u001b[0m\u001b[0;34m\u001b[0m\u001b[0;34m\u001b[0m\u001b[0m\n\u001b[1;32m     15\u001b[0m     ins_stats['ites'],ins_stats['res'] = mae6225.poisson.solve_jacobi(gridc, 'pres', 'divp',\n\u001b[0;32m---> 16\u001b[0;31m                                           maxiter=10000, tol=1e-9)\n\u001b[0m\u001b[1;32m     17\u001b[0m \u001b[0;34m\u001b[0m\u001b[0m\n\u001b[1;32m     18\u001b[0m     \u001b[0;31m# Calculate corrected velocity u^n+1 = u* - dt * grad(P)\u001b[0m\u001b[0;34m\u001b[0m\u001b[0;34m\u001b[0m\u001b[0m\n",
      "\u001b[0;32m~/Documents/Teaching/MAE-6225/mae6225/poisson/jacobi.py\u001b[0m in \u001b[0;36msolve_jacobi\u001b[0;34m(grid, ivar, rvar, maxiter, tol, verbose)\u001b[0m\n\u001b[1;32m     48\u001b[0m                                          (2.0 * (dx**2 + dy**2)))\n\u001b[1;32m     49\u001b[0m \u001b[0;34m\u001b[0m\u001b[0m\n\u001b[0;32m---> 50\u001b[0;31m         \u001b[0mgrid\u001b[0m\u001b[0;34m.\u001b[0m\u001b[0mfill_guard_cells\u001b[0m\u001b[0;34m(\u001b[0m\u001b[0mivar\u001b[0m\u001b[0;34m)\u001b[0m\u001b[0;34m\u001b[0m\u001b[0m\n\u001b[0m\u001b[1;32m     51\u001b[0m \u001b[0;34m\u001b[0m\u001b[0m\n\u001b[1;32m     52\u001b[0m         residual = (numpy.sqrt(numpy.sum((grid.data[:, :, i_ivar] -\n",
      "\u001b[0;32m~/Documents/Teaching/MAE-6225/mae6225/grid/grid.py\u001b[0m in \u001b[0;36mfill_guard_cells\u001b[0;34m(self, var_names)\u001b[0m\n\u001b[1;32m    259\u001b[0m                                                        bc_types, bc_vals):\n\u001b[1;32m    260\u001b[0m                     \u001b[0;32mif\u001b[0m \u001b[0mbc_type\u001b[0m \u001b[0;34m==\u001b[0m \u001b[0;34m'neumann'\u001b[0m\u001b[0;34m:\u001b[0m\u001b[0;34m\u001b[0m\u001b[0m\n\u001b[0;32m--> 261\u001b[0;31m                         \u001b[0mself\u001b[0m\u001b[0;34m.\u001b[0m\u001b[0mfill_guard_cells_neumann\u001b[0m\u001b[0;34m(\u001b[0m\u001b[0mname\u001b[0m\u001b[0;34m,\u001b[0m \u001b[0mloc\u001b[0m\u001b[0;34m,\u001b[0m \u001b[0mbc_val\u001b[0m\u001b[0;34m,\u001b[0m \u001b[0mdelta\u001b[0m\u001b[0;34m)\u001b[0m\u001b[0;34m\u001b[0m\u001b[0m\n\u001b[0m\u001b[1;32m    262\u001b[0m                     \u001b[0;32melif\u001b[0m \u001b[0mbc_type\u001b[0m \u001b[0;34m==\u001b[0m \u001b[0;34m'dirichlet'\u001b[0m\u001b[0;34m:\u001b[0m\u001b[0;34m\u001b[0m\u001b[0m\n\u001b[1;32m    263\u001b[0m                         \u001b[0mself\u001b[0m\u001b[0;34m.\u001b[0m\u001b[0mfill_guard_cells_dirichlet\u001b[0m\u001b[0;34m(\u001b[0m\u001b[0mname\u001b[0m\u001b[0;34m,\u001b[0m \u001b[0mloc\u001b[0m\u001b[0;34m,\u001b[0m \u001b[0mbc_val\u001b[0m\u001b[0;34m)\u001b[0m\u001b[0;34m\u001b[0m\u001b[0m\n",
      "\u001b[0;32m~/Documents/Teaching/MAE-6225/mae6225/grid/grid.py\u001b[0m in \u001b[0;36mfill_guard_cells_neumann\u001b[0;34m(self, var_name, loc, bc_val, delta)\u001b[0m\n\u001b[1;32m    306\u001b[0m             \u001b[0mself\u001b[0m\u001b[0;34m.\u001b[0m\u001b[0mdata\u001b[0m\u001b[0;34m[\u001b[0m\u001b[0;34m:\u001b[0m\u001b[0;34m,\u001b[0m \u001b[0;34m-\u001b[0m\u001b[0;36m1\u001b[0m\u001b[0;34m,\u001b[0m \u001b[0midx\u001b[0m\u001b[0;34m]\u001b[0m \u001b[0;34m=\u001b[0m \u001b[0mbc_val\u001b[0m \u001b[0;34m*\u001b[0m \u001b[0mdelta\u001b[0m \u001b[0;34m+\u001b[0m \u001b[0mself\u001b[0m\u001b[0;34m.\u001b[0m\u001b[0mdata\u001b[0m\u001b[0;34m[\u001b[0m\u001b[0;34m:\u001b[0m\u001b[0;34m,\u001b[0m \u001b[0;34m-\u001b[0m\u001b[0;36m2\u001b[0m\u001b[0;34m,\u001b[0m \u001b[0midx\u001b[0m\u001b[0;34m]\u001b[0m\u001b[0;34m\u001b[0m\u001b[0m\n\u001b[1;32m    307\u001b[0m         \u001b[0;32melif\u001b[0m \u001b[0mloc\u001b[0m \u001b[0;34m==\u001b[0m \u001b[0;34m'bottom'\u001b[0m\u001b[0;34m:\u001b[0m\u001b[0;34m\u001b[0m\u001b[0m\n\u001b[0;32m--> 308\u001b[0;31m             \u001b[0mself\u001b[0m\u001b[0;34m.\u001b[0m\u001b[0mdata\u001b[0m\u001b[0;34m[\u001b[0m\u001b[0;36m0\u001b[0m\u001b[0;34m,\u001b[0m \u001b[0;34m:\u001b[0m\u001b[0;34m,\u001b[0m \u001b[0midx\u001b[0m\u001b[0;34m]\u001b[0m \u001b[0;34m=\u001b[0m \u001b[0mbc_val\u001b[0m \u001b[0;34m*\u001b[0m \u001b[0mdelta\u001b[0m \u001b[0;34m+\u001b[0m \u001b[0mself\u001b[0m\u001b[0;34m.\u001b[0m\u001b[0mdata\u001b[0m\u001b[0;34m[\u001b[0m\u001b[0;36m1\u001b[0m\u001b[0;34m,\u001b[0m \u001b[0;34m:\u001b[0m\u001b[0;34m,\u001b[0m \u001b[0midx\u001b[0m\u001b[0;34m]\u001b[0m\u001b[0;34m\u001b[0m\u001b[0m\n\u001b[0m\u001b[1;32m    309\u001b[0m         \u001b[0;32melif\u001b[0m \u001b[0mloc\u001b[0m \u001b[0;34m==\u001b[0m \u001b[0;34m'top'\u001b[0m\u001b[0;34m:\u001b[0m\u001b[0;34m\u001b[0m\u001b[0m\n\u001b[1;32m    310\u001b[0m             \u001b[0mself\u001b[0m\u001b[0;34m.\u001b[0m\u001b[0mdata\u001b[0m\u001b[0;34m[\u001b[0m\u001b[0;34m-\u001b[0m\u001b[0;36m1\u001b[0m\u001b[0;34m,\u001b[0m \u001b[0;34m:\u001b[0m\u001b[0;34m,\u001b[0m \u001b[0midx\u001b[0m\u001b[0;34m]\u001b[0m \u001b[0;34m=\u001b[0m \u001b[0mbc_val\u001b[0m \u001b[0;34m*\u001b[0m \u001b[0mdelta\u001b[0m \u001b[0;34m+\u001b[0m \u001b[0mself\u001b[0m\u001b[0;34m.\u001b[0m\u001b[0mdata\u001b[0m\u001b[0;34m[\u001b[0m\u001b[0;34m-\u001b[0m\u001b[0;36m2\u001b[0m\u001b[0;34m,\u001b[0m \u001b[0;34m:\u001b[0m\u001b[0;34m,\u001b[0m \u001b[0midx\u001b[0m\u001b[0;34m]\u001b[0m\u001b[0;34m\u001b[0m\u001b[0m\n",
      "\u001b[0;31mKeyboardInterrupt\u001b[0m: "
     ]
    }
   ],
   "source": [
    "t  = 0.0\n",
    "nt = 0\n",
    "\n",
    "ins_stats = dict()\n",
    "\n",
    "while(t<=tmax):\n",
    "    \n",
    "    # Calculate predicted velocity: u* = dt*H(u^n)\n",
    "    mae6225.ins.predictor(gridx, gridy, 'velc', 'hvar', Re, dt)\n",
    "    \n",
    "    # Calculate RHS for the pressure Poission solver div(u)/dt\n",
    "    mae6225.ins.divergence(gridc, gridx, gridy, 'velc', 'divp', ifac=dt)\n",
    "    \n",
    "    # Solve the pressure Poisson equation \n",
    "    ins_stats['ites'],ins_stats['res'] = mae6225.poisson.solve_jacobi(gridc, 'pres', 'divp',\n",
    "                                          maxiter=10000, tol=1e-9)\n",
    "    \n",
    "    # Calculate corrected velocity u^n+1 = u* - dt * grad(P) \n",
    "    mae6225.ins.corrector(gridc, gridx, gridy, 'velc', 'pres', dt)\n",
    "    \n",
    "    # Calculate divergence of the corrected velocity to display stats\n",
    "    mae6225.ins.divergence(gridc, gridx, gridy, 'velc', 'divc')\n",
    "    \n",
    "    # Calculate stats\n",
    "    ins_stats.update(mae6225.ins.stats(gridc, gridx, gridy, 'velc', 'pres', 'divc'))\n",
    "    \n",
    "    # Display stats\n",
    "    if(nt%10==0): mae6225.io.display_stats(t,ins_stats)   \n",
    "    \n",
    "    t  = t+dt\n",
    "    nt = nt+1\n",
    "    "
   ]
  },
  {
   "cell_type": "code",
   "execution_count": null,
   "metadata": {},
   "outputs": [],
   "source": [
    "# Plot the analytical solution\n",
    "mae6225.io.plot_contour(gridc, 'pres')\n",
    "mae6225.io.plot_vector(gridx,gridy,'velc')"
   ]
  }
 ],
 "metadata": {
  "kernelspec": {
   "display_name": "Python 3",
   "language": "python",
   "name": "python3"
  },
  "language_info": {
   "codemirror_mode": {
    "name": "ipython",
    "version": 3
   },
   "file_extension": ".py",
   "mimetype": "text/x-python",
   "name": "python",
   "nbconvert_exporter": "python",
   "pygments_lexer": "ipython3",
   "version": "3.6.1"
  }
 },
 "nbformat": 4,
 "nbformat_minor": 2
}
